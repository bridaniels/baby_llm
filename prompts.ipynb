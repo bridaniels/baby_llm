{
 "cells": [
  {
   "cell_type": "markdown",
   "metadata": {},
   "source": [
    "# Langchain Prompts: \n",
    "--- \n",
    "([documentation](https://python.langchain.com/docs/modules/model_io/prompts))\n",
    " - set of instructions/input provided by a user to guide the model's output "
   ]
  },
  {
   "cell_type": "markdown",
   "metadata": {},
   "source": [
    "### Import Libraries + Setup API"
   ]
  },
  {
   "cell_type": "code",
   "execution_count": 1,
   "metadata": {},
   "outputs": [],
   "source": [
    "#Prompt Template\n",
    "from langchain import PromptTemplate\n",
    "\n",
    "#Chat Prompt Template\n",
    "from langchain.prompts import ChatPromptTemplate \n",
    "from langchain.prompts.chat import SystemMessage, HumanMessagePromptTemplate\n"
   ]
  },
  {
   "cell_type": "code",
   "execution_count": 8,
   "metadata": {},
   "outputs": [],
   "source": [
    "# # from langchain.llms import OpenAI\n",
    "# from langchain.chat_models import ChatOpenAI\n",
    "\n",
    "# key_xyz = \"\"\n",
    "\n",
    "# # llm = OpenAI(openai_api_key=key_xyz)\n",
    "# chat_model=ChatOpenAI(openai_api_key=key_xyz)"
   ]
  },
  {
   "cell_type": "markdown",
   "metadata": {},
   "source": [
    "## Prompt Template: \n",
    "--- \n",
    "- `PromptTemplate` uses string format for input *(however, other formats are workable)*\n",
    "    - can use as many variables as you want or no variables\n",
    "    - `input_variables` will be compared against variables present in the template string\n",
    "        - exception raised if there is a mismatch "
   ]
  },
  {
   "cell_type": "code",
   "execution_count": 3,
   "metadata": {},
   "outputs": [
    {
     "data": {
      "text/plain": [
       "'Tell me a funny joke about chickens.'"
      ]
     },
     "execution_count": 3,
     "metadata": {},
     "output_type": "execute_result"
    }
   ],
   "source": [
    "# PromptTemplate: 2 Variables \n",
    "\n",
    "prompt_template = PromptTemplate.from_template(\n",
    "    \"Tell me a {adjective} joke about {content}.\"\n",
    "    )\n",
    "prompt_template.format(adjective=\"funny\", content=\"chickens\")"
   ]
  },
  {
   "cell_type": "code",
   "execution_count": 4,
   "metadata": {},
   "outputs": [
    {
     "data": {
      "text/plain": [
       "'Tell me a joke'"
      ]
     },
     "execution_count": 4,
     "metadata": {},
     "output_type": "execute_result"
    }
   ],
   "source": [
    "# PromptTemplate: 0 Variables \n",
    "\n",
    "prompt_template = PromptTemplate.from_template(\n",
    "    \"Tell me a joke\"\n",
    "    )\n",
    "prompt_template.format()"
   ]
  },
  {
   "cell_type": "code",
   "execution_count": 5,
   "metadata": {},
   "outputs": [
    {
     "name": "stdout",
     "output_type": "stream",
     "text": [
      "Tell me a funny joke about chickens\n"
     ]
    }
   ],
   "source": [
    "# PromptTemplate: input_variables \n",
    "\n",
    "valid_prompt = PromptTemplate(\n",
    "    input_variables=[\"adjective\", \"content\"],\n",
    "    template=\"Tell me a {adjective} joke about {content}\"\n",
    "    )\n",
    "print(valid_prompt.format(adjective=\"funny\",content=\"chickens\"))\n",
    "\n",
    "# EXCEPTION RAISED: two variables but only one defined input_variable\n",
    "# invalid_prompt = PromptTemplate(\n",
    "#     input_variables = [\"adjective\"], \n",
    "#     template=\"Tell me a {adjective} joke about {content}.\"\n",
    "#     )\n",
    "# invalid_prompt.format(adjective=\"funny\")"
   ]
  },
  {
   "cell_type": "markdown",
   "metadata": {},
   "source": [
    "## Chat Prompt Template:\n",
    "---\n",
    "- chat messages associated with a `role` and `content` parameters \n"
   ]
  },
  {
   "cell_type": "code",
   "execution_count": 6,
   "metadata": {},
   "outputs": [
    {
     "name": "stdout",
     "output_type": "stream",
     "text": [
      "You are a helpful AI bot. Your name is Bob.\n",
      "Hello, how are you doing?\n",
      "I'm doing well, thanks!\n",
      "What is your name?\n"
     ]
    }
   ],
   "source": [
    "# 2-tuple representation of (type, content)\n",
    "\n",
    "template = ChatPromptTemplate.from_messages([\n",
    "    (\"system\", \"You are a helpful AI bot. Your name is {name}.\"), \n",
    "    (\"human\", \"Hello, how are you doing?\"),\n",
    "    (\"ai\", \"I'm doing well, thanks!\"), \n",
    "    (\"human\", \"{user_input}\")\n",
    "    ])\n",
    "messages = template.format_messages(\n",
    "    name = \"Bob\", \n",
    "    user_input = \"What is your name?\"\n",
    "    )\n",
    "\n",
    "# messages\n",
    "for x in range(len(messages)): \n",
    "    print(messages[x].content)"
   ]
  },
  {
   "cell_type": "code",
   "execution_count": 7,
   "metadata": {},
   "outputs": [
    {
     "name": "stdout",
     "output_type": "stream",
     "text": [
      "Content Output: \n",
      " I absolutely adore eating tasty things! \n",
      "ChatMessage Output:\n"
     ]
    },
    {
     "data": {
      "text/plain": [
       "AIMessage(content='I absolutely adore eating tasty things!', additional_kwargs={}, example=False)"
      ]
     },
     "execution_count": 7,
     "metadata": {},
     "output_type": "execute_result"
    }
   ],
   "source": [
    "# pass instance of `MessagePromptTemplate` or `BaseMessage`\n",
    "\n",
    "template = ChatPromptTemplate.from_messages(\n",
    "    [\n",
    "        SystemMessage(content=(\"You are a helpful assistant that re-writes the user's text to sound more upbeat.\")),\n",
    "        HumanMessagePromptTemplate.from_template(\"{text}\"),\n",
    "    ]\n",
    ")\n",
    "upbeat = chat_model(template.format_messages(text=\"I don't like eating tasty things.\"))\n",
    "\n",
    "print(\"Content Output: \\n {} \\nChatMessage Output:\".format(upbeat.content))\n",
    "upbeat"
   ]
  },
  {
   "cell_type": "code",
   "execution_count": null,
   "metadata": {},
   "outputs": [],
   "source": []
  }
 ],
 "metadata": {
  "kernelspec": {
   "display_name": "base",
   "language": "python",
   "name": "python3"
  },
  "language_info": {
   "codemirror_mode": {
    "name": "ipython",
    "version": 3
   },
   "file_extension": ".py",
   "mimetype": "text/x-python",
   "name": "python",
   "nbconvert_exporter": "python",
   "pygments_lexer": "ipython3",
   "version": "3.8.8"
  },
  "orig_nbformat": 4
 },
 "nbformat": 4,
 "nbformat_minor": 2
}
